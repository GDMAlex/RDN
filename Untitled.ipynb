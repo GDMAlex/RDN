{
 "cells": [
  {
   "cell_type": "code",
   "execution_count": 1,
   "id": "toxic-acceptance",
   "metadata": {},
   "outputs": [],
   "source": [
    "import torch\n",
    "\n",
    "\n",
    "# TODO define the BinaryEncoder\n",
    "class BinaryEncoder(torch.nn.Module):\n",
    "    def __init__(self, params):\n",
    "        super().__init__()\n",
    "        self.layer = torch.nn.Sequential( torch.nn.Linear(1, params[\"output_size\"]),torch.nn.Sigmoid() )\n",
    "        \n",
    "    def forward(self, x):\n",
    "        return self.layer(x)\n",
    "\n",
    "# TODO define the BinaryDecoder\n",
    "class BinaryDecoder(torch.nn.Module):\n",
    "    def __init__(self, input_dim, params):\n",
    "        super().__init__()\n",
    "        self.layer = torch.nn.Sequential( torch.nn.Linear(params[\"output_size\"],1), torch.nn.Sigmoid() )\n",
    "    \n",
    "    def forward(self, x):\n",
    "        return self.layer(x) \n",
    "\n",
    "# TODO define the BinaryLoss\n",
    "class BinaryLoss(torch.nn.Module):\n",
    "    def __init__(self, params):\n",
    "        super().__init__()\n",
    "        self.loss = torch.nn.BCELoss() \n",
    "    \n",
    "    def forward(self, yh, y):\n",
    "        yh = self(x) ## ou self.layer(x) \n",
    "        loss = self.loss(yh,y) \n",
    "        return loss"
   ]
  },
  {
   "cell_type": "code",
   "execution_count": null,
   "id": "given-breath",
   "metadata": {},
   "outputs": [],
   "source": []
  },
  {
   "cell_type": "code",
   "execution_count": null,
   "id": "right-specification",
   "metadata": {},
   "outputs": [],
   "source": []
  }
 ],
 "metadata": {
  "kernelspec": {
   "display_name": "Python 3",
   "language": "python",
   "name": "python3"
  },
  "language_info": {
   "codemirror_mode": {
    "name": "ipython",
    "version": 3
   },
   "file_extension": ".py",
   "mimetype": "text/x-python",
   "name": "python",
   "nbconvert_exporter": "python",
   "pygments_lexer": "ipython3",
   "version": "3.8.5"
  }
 },
 "nbformat": 4,
 "nbformat_minor": 5
}
