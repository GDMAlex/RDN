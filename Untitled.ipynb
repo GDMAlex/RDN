{
 "cells": [
  {
   "cell_type": "code",
   "execution_count": 1,
   "id": "operational-montana",
   "metadata": {},
   "outputs": [],
   "source": [
    "import torch\n",
    "\n",
    "\n",
    "# TODO define the NumericalEncoder\n",
    "class NumericalEncoder(torch.nn.Module):\n",
    "    def __init__(self, params):\n",
    "        super().__init__()\n",
    "        self.layer = Sequential( Linear(1, params[\"output_size\"]),Sigmoid() )\n",
    "        \n",
    "    def forward(self, x):\n",
    "        return self.layer(x)\n",
    "\n",
    "# TODO define the NumericalDecoder\n",
    "class NumericalDecoder(torch.nn.Module):\n",
    "    def __init__(self, input_dim, params):\n",
    "        super().__init__()\n",
    "        pass\n",
    "    \n",
    "    def forward(self, x):\n",
    "         \n",
    "        return \n",
    "\n",
    "# TODO define the NumericalLoss\n",
    "class NumericalLoss(torch.nn.Module):\n",
    "    def __init__(self, params):\n",
    "        super().__init__()\n",
    "        pass\n",
    "    \n",
    "    def forward(self, yh, y):\n",
    "         \n",
    "        return "
   ]
  },
  {
   "cell_type": "code",
   "execution_count": null,
   "id": "bronze-carpet",
   "metadata": {},
   "outputs": [],
   "source": []
  },
  {
   "cell_type": "code",
   "execution_count": null,
   "id": "checked-adaptation",
   "metadata": {},
   "outputs": [],
   "source": []
  }
 ],
 "metadata": {
  "kernelspec": {
   "display_name": "Python 3",
   "language": "python",
   "name": "python3"
  },
  "language_info": {
   "codemirror_mode": {
    "name": "ipython",
    "version": 3
   },
   "file_extension": ".py",
   "mimetype": "text/x-python",
   "name": "python",
   "nbconvert_exporter": "python",
   "pygments_lexer": "ipython3",
   "version": "3.8.5"
  }
 },
 "nbformat": 4,
 "nbformat_minor": 5
}
